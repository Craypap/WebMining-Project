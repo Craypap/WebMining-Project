{
 "cells": [
  {
   "cell_type": "code",
   "execution_count": 4,
   "metadata": {},
   "outputs": [
    {
     "name": "stdout",
     "output_type": "stream",
     "text": [
      "Nombre d'éléments dans le fichier d'entrée : 8376\n",
      "Nombre d'éléments dans le fichier de sortie (sans doublons) : 2894\n"
     ]
    }
   ],
   "source": [
    "import json\n",
    "\n",
    "def remove_duplicates_from_json_file(input_file, output_file):\n",
    "    with open(input_file, 'r', encoding='utf-8') as file:\n",
    "        data = json.load(file)\n",
    "    \n",
    "    unique_data = []\n",
    "    seen = set()\n",
    "\n",
    "    for item in data:\n",
    "        item_tuple = tuple(item.items())\n",
    "        \n",
    "        if item_tuple not in seen:\n",
    "            seen.add(item_tuple)\n",
    "            unique_data.append(item)\n",
    "\n",
    "    with open(output_file, 'w', encoding='utf-8') as file:\n",
    "        file.write('[\\n')\n",
    "        for i, item in enumerate(unique_data):\n",
    "            if i > 0:\n",
    "                file.write(',\\n')\n",
    "            json.dump(item, file, ensure_ascii=False, indent=4, separators=(',', ': '))\n",
    "        file.write('\\n]')\n",
    "        \n",
    "    return len(data), len(unique_data)\n",
    "\n",
    "def count_elements_in_json_file(file_path):\n",
    "    with open(file_path, 'r', encoding='utf-8') as file:\n",
    "        data = json.load(file)\n",
    "    \n",
    "    return len(data)\n",
    "\n",
    "if __name__ == \"__main__\":\n",
    "    input_file = 'lidl_output.json'\n",
    "    output_file = 'lidl_output_without_duplicates.json'\n",
    "    \n",
    "    initial_count, final_count = remove_duplicates_from_json_file(input_file, output_file)\n",
    "    \n",
    "    print(f\"Nombre d'éléments dans le fichier d'entrée : {initial_count}\")\n",
    "    print(f\"Nombre d'éléments dans le fichier de sortie (sans doublons) : {final_count}\")\n"
   ]
  }
 ],
 "metadata": {
  "kernelspec": {
   "display_name": "venv",
   "language": "python",
   "name": "python3"
  },
  "language_info": {
   "codemirror_mode": {
    "name": "ipython",
    "version": 3
   },
   "file_extension": ".py",
   "mimetype": "text/x-python",
   "name": "python",
   "nbconvert_exporter": "python",
   "pygments_lexer": "ipython3",
   "version": "3.8.10"
  },
  "orig_nbformat": 4
 },
 "nbformat": 4,
 "nbformat_minor": 2
}
